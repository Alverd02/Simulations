{
 "cells": [
  {
   "cell_type": "markdown",
   "id": "d4efe53a-42e8-4518-adc7-0296d0ded9e6",
   "metadata": {},
   "source": [
    "# BASIC OPERATIONS"
   ]
  },
  {
   "cell_type": "markdown",
   "id": "92d09f5a-444f-4a2a-b0e5-6799d0156dea",
   "metadata": {},
   "source": [
    "### 1. $\\pi$ using Bailey-Borwein-Plouffe formula:"
   ]
  },
  {
   "cell_type": "markdown",
   "id": "2148f853-46df-4ff6-8056-fa669221c65a",
   "metadata": {},
   "source": [
    "### $\\pi = \\sum_{k=0}^{\\infty}[\\frac{1}{16^k}(\\frac{4}{8k+1}-\\frac{2}{8k+4}-\\frac{1}{8k+5}-\\frac{1}{8k+6})]$ "
   ]
  },
  {
   "cell_type": "code",
   "execution_count": 4,
   "id": "35f0df39-c519-4535-b642-5949fa5028f4",
   "metadata": {},
   "outputs": [
    {
     "name": "stderr",
     "output_type": "stream",
     "text": [
      "<>:16: SyntaxWarning: invalid escape sequence '\\p'\n",
      "<>:16: SyntaxWarning: invalid escape sequence '\\p'\n",
      "C:\\Users\\Usuario\\AppData\\Local\\Temp\\ipykernel_15720\\1910725889.py:16: SyntaxWarning: invalid escape sequence '\\p'\n",
      "  plt.title(\"BBP formula: $\\pi$ error estimation\")\n"
     ]
    },
    {
     "data": {
      "image/png": "[encoded data removed]",
      "text/plain": [
       "<Figure size 640x480 with 1 Axes>"
      ]
     },
     "metadata": {},
     "output_type": "display_data"
    }
   ],
   "source": [
    "import math\n",
    "import matplotlib.pyplot as plt\n",
    "import numpy as np\n",
    "pi_theo = math.pi\n",
    "pi_iter = 0\n",
    "k = 0\n",
    "error = abs(math.pi-pi_iter)\n",
    "error_list = []\n",
    "pi_iter_list = []\n",
    "while error > 10**(-14):\n",
    "    pi_iter = pi_iter + (1/16**k)*((4/(8*k+1))-(2/(8*k+4))-(1/(8*k+5))-(1/(8*k+6)))\n",
    "    pi_iter_list.append(pi_iter)\n",
    "    k = k + 1\n",
    "    error = abs(math.pi-pi_iter)\n",
    "    error_list.append(error)\n",
    "plt.title(\"BBP formula: $\\pi$ error estimation\")\n",
    "plt.xlabel(\"Iterations\")\n",
    "plt.ylabel(\"error\")\n",
    "plt.plot(np.arange(0,k,1),error_list,\"r-x\")\n",
    "plt.yscale(\"log\")\n",
    "plt.grid()\n",
    "plt.show()"
   ]
  },
  {
   "cell_type": "code",
   "execution_count": 5,
   "id": "ab487f0a-0018-4edc-a133-c4a46dd6573b",
   "metadata": {},
   "outputs": [],
   "source": [
    "import csv\n",
    "with open(\"pi_error.csv\",\"w\",newline=\"\") as csvfile:\n",
    "    writer = csv.writer(csvfile)\n",
    "    writer.writerow([\"Index\", \"Error\"])\n",
    "    for i in range(len(error_list)):\n",
    "        writer.writerow([i,error_list[i]])"
   ]
  },
  {
   "cell_type": "markdown",
   "id": "bad110ff-5436-4191-990f-7a053abb6d1d",
   "metadata": {},
   "source": [
    "### 2. $\\pi$ using the following integrals:"
   ]
  },
  {
   "cell_type": "markdown",
   "id": "4d6dc0d4-12e4-4de2-9544-98359f4e893b",
   "metadata": {},
   "source": [
    "$\\int_{-\\infty}^{\\infty}exp(-x^2)dx = \\sqrt\\pi$"
   ]
  },
  {
   "cell_type": "markdown",
   "id": "ae30e01c-21e1-4d96-862d-bbcd19ce5281",
   "metadata": {},
   "source": [
    "$\\int_{-\\infty}^{\\infty}\\frac{1}{1+x^2}dx = \\pi$"
   ]
  },
  {
   "cell_type": "code",
   "execution_count": 9,
   "id": "1feb5af1-87e2-4cb4-9091-5ec05d7aaf58",
   "metadata": {},
   "outputs": [
    {
     "name": "stdout",
     "output_type": "stream",
     "text": [
      "pi_quad func1 =  3.1415926535897936 error = 2.0171489154202628e-16 \n",
      "pi_quad func2 =  3.141592653589793 error = 5.155583041103855e-10\n"
     ]
    }
   ],
   "source": [
    "import scipy as sc\n",
    "def func1(x):\n",
    "    func1 = np.e**(-x**2)\n",
    "    return func1\n",
    "def func2(x):\n",
    "    func2 =  1/(1+x**2)\n",
    "    return func2\n",
    "pi_quad1 = sc.integrate.quad(func1,-np.inf,np.inf)\n",
    "pi_quad2 = sc.integrate.quad(func2,-np.inf,np.inf)\n",
    "print(\"pi_quad func1 = \",pi_quad1[0]**2,\"error =\", pi_quad1[1]**2,\"\\npi_quad func2 = \",pi_quad2[0],\"error =\", pi_quad2[1])"
   ]
  },
  {
   "cell_type": "markdown",
   "id": "ac80aedb-67b0-4bf7-bcb7-b22bcfc6eae1",
   "metadata": {},
   "source": [
    "The simpson method needs an array of the function evaluated in a close interval [-L,L] in this case where $L = \\infty$ the quad method is much better becasue we do not need to estimate the interval."
   ]
  },
  {
   "cell_type": "markdown",
   "id": "36447b33-794c-4046-8aa6-54bb66581594",
   "metadata": {},
   "source": [
    "Let's try to use the simpson method"
   ]
  },
  {
   "cell_type": "code",
   "execution_count": 12,
   "id": "51ec701e-252d-49b7-b81f-4e7226b58093",
   "metadata": {},
   "outputs": [
    {
     "name": "stdout",
     "output_type": "stream",
     "text": [
      "pi_simp func1 =  3.141592653589792 error = 1.3322676295501878e-15 \n",
      "pi_simp func2 =  3.1215932203253725 error = 6.602751579591537\n"
     ]
    }
   ],
   "source": [
    "L = 100\n",
    "N = 1001 #MUST BE ODD\n",
    "x = np.arange(-L,L,1/N)\n",
    "y1 = func1(x)\n",
    "y2 = func2(x)\n",
    "pi_simp1 = sc.integrate.simpson(y1,x=x)\n",
    "pi_simp2 = sc.integrate.simpson(y2,x=x)\n",
    "print(\"pi_simp func1 = \",pi_simp1**2,\"error =\", abs(pi_simp1**2-np.pi),\"\\npi_simp func2 = \",pi_simp2,\"error =\", abs(pi_simp2**2-np.pi))"
   ]
  },
  {
   "cell_type": "markdown",
   "id": "af1c3534-d51c-489c-a683-344671e91c85",
   "metadata": {},
   "source": [
    "We can se that for function 1, the setup I choose is enough for the number to converg. However, for function 2 we need to add a bigger L or a bigger N."
   ]
  },
  {
   "cell_type": "markdown",
   "id": "9128f9a1-f0c8-4aee-b2d7-2fa170f93483",
   "metadata": {},
   "source": [
    "### 2. $\\pi$ using quotien between section of a circunference of diamater L and the section of a square of side L. Monte-Carlo method\n"
   ]
  },
  {
   "cell_type": "code",
   "execution_count": 15,
   "id": "17b3efdb-aada-4b40-b2a3-658582a1e809",
   "metadata": {},
   "outputs": [
    {
     "name": "stdout",
     "output_type": "stream",
     "text": [
      "3.1411042944785277 0.0004883591112654351 163\n"
     ]
    },
    {
     "name": "stderr",
     "output_type": "stream",
     "text": [
      "<>:23: SyntaxWarning: invalid escape sequence '\\p'\n",
      "<>:23: SyntaxWarning: invalid escape sequence '\\p'\n",
      "C:\\Users\\Usuario\\AppData\\Local\\Temp\\ipykernel_15720\\4270460892.py:23: SyntaxWarning: invalid escape sequence '\\p'\n",
      "  plt.title(\"Monte-Carlo simulation convergence for $\\pi$ error estimation\")\n"
     ]
    },
    {
     "data": {
      "image/png": "[encoded data removed]",
      "text/plain": [
       "<Figure size 640x480 with 1 Axes>"
      ]
     },
     "metadata": {},
     "output_type": "display_data"
    }
   ],
   "source": [
    "r = 5\n",
    "center = (5,5)\n",
    "dins = 0\n",
    "totals = 0\n",
    "error = np.pi\n",
    "error_list = []\n",
    "while error>10**(-3):\n",
    "    x_guess = np.random.uniform(0,10)\n",
    "    y_guess = np.random.uniform(0,10)\n",
    "    v = (x_guess-center[0],y_guess-center[1])\n",
    "    d = np.sqrt(v[0]**2+v[1]**2)\n",
    "    if d <= r:\n",
    "        dins = dins+1\n",
    "        totals = totals+1\n",
    "    else:\n",
    "        totals = totals+1\n",
    "    error = abs(4*dins/totals-np.pi)\n",
    "    error_list.append(error)\n",
    "x = np.arange(totals)\n",
    "\n",
    "print(4*dins/totals,error,totals)\n",
    "\n",
    "plt.title(\"Monte-Carlo simulation convergence for $\\pi$ error estimation\")\n",
    "plt.xlabel(\"Iterations\")\n",
    "plt.ylabel(\"error\")\n",
    "plt.yscale(\"log\")\n",
    "plt.plot(x,error_list,\"r-x\")\n",
    "plt.grid()"
   ]
  },
  {
   "cell_type": "markdown",
   "id": "3f99fa4c-de16-4c3a-b125-1ada62f7082b",
   "metadata": {},
   "source": [
    "The main idea is that if we throw random unfiorm points in a region, the fraction of point that go inside the figure is proportional to the its area. So by the law of large numbers: $P(inside) = \\frac{circle}{square}=\\frac{\\pi r^2}{(2r)^2}=f\\rightarrow \\pi=4f$ where $f$ is the fraction of points inside and total."
   ]
  },
  {
   "cell_type": "markdown",
   "id": "2118c5ae-1bc7-4f04-a2f7-e2b45c221bc0",
   "metadata": {},
   "source": [
    "# Numpy: Representation of the groups Mandelbrot and Julia"
   ]
  },
  {
   "cell_type": "markdown",
   "id": "a46bf0db-f677-4b0b-b42d-dee46ea4a4d7",
   "metadata": {},
   "source": [
    "The group of Mandelbrot is defined as the group of points $c\\in C$ which the succession $z_{n+1}=z_n^2+c$ with $z_0 = 0$ converges. It can be proved that the serie converges if $||z_nz||<2$."
   ]
  },
  {
   "cell_type": "code",
   "execution_count": 78,
   "id": "d0a23486-be82-45f6-9a78-d6d60a015226",
   "metadata": {},
   "outputs": [
    {
     "ename": "KeyboardInterrupt",
     "evalue": "",
     "output_type": "error",
     "traceback": [
      "\u001b[1;31m---------------------------------------------------------------------------\u001b[0m",
      "\u001b[1;31mKeyboardInterrupt\u001b[0m                         Traceback (most recent call last)",
      "Cell \u001b[1;32mIn[78], line 13\u001b[0m\n\u001b[0;32m     11\u001b[0m \u001b[38;5;28;01mfor\u001b[39;00m k \u001b[38;5;129;01min\u001b[39;00m \u001b[38;5;28mrange\u001b[39m(\u001b[38;5;241m1\u001b[39m,l):\n\u001b[0;32m     12\u001b[0m     z \u001b[38;5;241m=\u001b[39m z\u001b[38;5;241m*\u001b[39m\u001b[38;5;241m*\u001b[39m\u001b[38;5;241m2\u001b[39m\u001b[38;5;241m+\u001b[39mc[i][j]\n\u001b[1;32m---> 13\u001b[0m     \u001b[38;5;28;01mif\u001b[39;00m np\u001b[38;5;241m.\u001b[39mabs(z)\u001b[38;5;241m>\u001b[39m\u001b[38;5;241m2\u001b[39m:\n\u001b[0;32m     14\u001b[0m         CM[i][j] \u001b[38;5;241m=\u001b[39m \u001b[38;5;241m0\u001b[39m\n\u001b[0;32m     15\u001b[0m         M[i][j] \u001b[38;5;241m=\u001b[39m k\n",
      "\u001b[1;31mKeyboardInterrupt\u001b[0m: "
     ]
    }
   ],
   "source": [
    "real = np.arange(-2,1,0.01)\n",
    "im = np.arange(-1.5,1.5,0.001)\n",
    "x,y = np.meshgrid(real,im)\n",
    "c = x+1j*y\n",
    "M = np.zeros(c.shape, dtype=int)\n",
    "CM = np.zeros(c.shape, dtype=int)\n",
    "for l in range(2,50):\n",
    "    for i in range(len(CM)):\n",
    "        for j in range(len(CM[i])):\n",
    "            z=0\n",
    "            for k in range(1,l):\n",
    "                z = z**2+c[i][j]\n",
    "                if np.abs(z)>2:\n",
    "                    CM[i][j] = 0\n",
    "                    M[i][j] = k\n",
    "                    break\n",
    "            else:\n",
    "                CM[i][j] = 1\n",
    "                M[i][j] = 0\n",
    "    plt.xlabel(\"Re(c)\")\n",
    "    plt.ylabel(\"Im(c)\")\n",
    "    plt.title(\"Mandelbrot group\")\n",
    "    plt.imshow(CM, cmap=\"gray\", extent=[-2, 1, -1.5, 1.5])\n",
    "    if l <10:\n",
    "        plt.savefig(f\"Mandelbrot GIF/0{l-1}.png\")\n",
    "    else:\n",
    "        plt.savefig(f\"Mandelbrot GIF/{l-1}.png\")\n",
    "    plt.title(\"Iterations until divergence\")\n",
    "    plt.imshow(M, cmap='hot', extent=[-2, 1, -1.5, 1.5])\n",
    "    plt.xlabel(\"Re(c)\")\n",
    "    plt.ylabel(\"Im(c)\")\n",
    "    plt.colorbar()\n",
    "    if l <10:\n",
    "        plt.savefig(f\"Mandelbrot_color GIF/0{l-1}.png\")\n",
    "    else:\n",
    "        plt.savefig(f\"Mandelbrot_color GIF/{l-1}.png\")\n",
    "    plt.close()\n",
    "\n",
    "plt.subplot(121)\n",
    "plt.xlabel(\"Re(c)\")\n",
    "plt.ylabel(\"Im(c)\")\n",
    "plt.title(\"Mandelbrot group\")\n",
    "plt.imshow(CM, cmap=\"gray\", extent=[-2, 1, -1.5, 1.5])\n",
    "plt.subplot(122)\n",
    "plt.title(\"Iterations until divergence\")\n",
    "plt.imshow(M, cmap='hot', extent=[-2, 1, -1.5, 1.5])\n",
    "plt.xlabel(\"Re(c)\")\n",
    "plt.ylabel(\"Im(c)\")\n",
    "plt.colorbar()\n",
    "plt.tight_layout()\n",
    "plt.show()"
   ]
  },
  {
   "cell_type": "code",
   "execution_count": 76,
   "id": "3cfbe5f6-9097-4806-acc5-229cbdac17d4",
   "metadata": {
    "scrolled": true
   },
   "outputs": [
    {
     "name": "stdout",
     "output_type": "stream",
     "text": [
      "0011.png\n",
      "0012.png\n",
      "0013.png\n",
      "0014.png\n",
      "0015.png\n",
      "0016.png\n",
      "0017.png\n",
      "0018.png\n",
      "0019.png\n",
      "0020.png\n",
      "0021.png\n",
      "0022.png\n",
      "0023.png\n",
      "0024.png\n",
      "0025.png\n",
      "0026.png\n",
      "0027.png\n"
     ]
    },
    {
     "name": "stderr",
     "output_type": "stream",
     "text": [
      "C:\\Users\\Usuario\\AppData\\Local\\Temp\\ipykernel_15720\\1584129137.py:12: DeprecationWarning: Starting with ImageIO v3 the behavior of this function will switch to that of iio.v3.imread. To keep the current behavior (and make this warning disappear) use `import imageio.v2 as imageio` or call `imageio.v2.imread` directly.\n",
      "  images1.append(imageio.imread(f\"Mandelbrot GIF/{filename}\"))\n"
     ]
    },
    {
     "name": "stdout",
     "output_type": "stream",
     "text": [
      "0028.png\n",
      "0029.png\n",
      "003.png\n",
      "0030.png\n",
      "0031.png\n",
      "0032.png\n",
      "0033.png\n",
      "0034.png\n",
      "0035.png\n",
      "0036.png\n",
      "0037.png\n",
      "0038.png\n",
      "0039.png\n",
      "004.png\n",
      "0040.png\n",
      "0041.png\n",
      "0042.png\n",
      "0043.png\n",
      "0044.png\n",
      "0045.png\n",
      "0046.png\n",
      "0047.png\n",
      "0048.png\n",
      "005.png\n",
      "006.png\n",
      "007.png\n",
      "008.png\n",
      "009.png\n",
      "01.png\n",
      "010.png\n",
      "02.png\n"
     ]
    },
    {
     "name": "stderr",
     "output_type": "stream",
     "text": [
      "C:\\Users\\Usuario\\AppData\\Local\\Temp\\ipykernel_15720\\1584129137.py:14: DeprecationWarning: Starting with ImageIO v3 the behavior of this function will switch to that of iio.v3.imread. To keep the current behavior (and make this warning disappear) use `import imageio.v2 as imageio` or call `imageio.v2.imread` directly.\n",
      "  images2.append(imageio.imread(f\"Mandelbrot_color GIF/{filename}\"))\n"
     ]
    }
   ],
   "source": [
    "import imageio\n",
    "import os\n",
    "folder_path1 = \"Mandelbrot GIF\"\n",
    "filenames1 = os.listdir(folder_path1)\n",
    "folder_path2 = \"Mandelbrot_color GIF\"\n",
    "filenames2 = os.listdir(folder_path2)\n",
    "images1 = []\n",
    "images2 = []\n",
    "\n",
    "for filename in filenames1:\n",
    "    print(filename)\n",
    "    images1.append(imageio.imread(f\"Mandelbrot GIF/{filename}\"))\n",
    "for filename in filenames2:\n",
    "    images2.append(imageio.imread(f\"Mandelbrot_color GIF/{filename}\"))\n",
    "imageio.mimsave('Mandelbrot.gif', images1)\n",
    "imageio.mimsave('Mandelbrot_color.gif', images2)"
   ]
  },
  {
   "cell_type": "code",
   "execution_count": null,
   "id": "14d6bd98-aba7-4f64-b6f4-ac71476e4eb3",
   "metadata": {},
   "outputs": [],
   "source": []
  },
  {
   "cell_type": "code",
   "execution_count": null,
   "id": "c2a3cb02-0c9b-40fd-8e0d-b31c0437d1be",
   "metadata": {},
   "outputs": [],
   "source": []
  }
 ],
 "metadata": {
  "kernelspec": {
   "display_name": "Python [conda env:base] *",
   "language": "python",
   "name": "conda-base-py"
  },
  "language_info": {
   "codemirror_mode": {
    "name": "ipython",
    "version": 3
   },
   "file_extension": ".py",
   "mimetype": "text/x-python",
   "name": "python",
   "nbconvert_exporter": "python",
   "pygments_lexer": "ipython3",
   "version": "3.12.7"
  }
 },
 "nbformat": 4,
 "nbformat_minor": 5
}
